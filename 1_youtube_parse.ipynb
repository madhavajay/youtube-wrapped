{
 "cells": [
  {
   "cell_type": "code",
   "execution_count": null,
   "id": "c74c7bdb-5156-4908-8f8b-f5eed558f7a0",
   "metadata": {},
   "outputs": [],
   "source": [
    "import re\n",
    "import pandas as pd\n",
    "from tqdm import tqdm\n",
    "import html as ihtml\n",
    "\n",
    "# Load the HTML file\n",
    "with open('watch-history.html', 'r', encoding='utf-8') as f:\n",
    "    html = f.read()\n",
    "\n",
    "# Find all \"outer-cell\" blocks quickly without full DOM parsing\n",
    "entries = re.findall(r'<div class=\"outer-cell[\\s\\S]*?<\\/div>\\s*<\\/div>', html)"
   ]
  },
  {
   "cell_type": "code",
   "execution_count": null,
   "id": "b7eafb87-a0b2-4d35-bdcf-b63dc3561caf",
   "metadata": {},
   "outputs": [],
   "source": [
    "len(entries)"
   ]
  },
  {
   "cell_type": "code",
   "execution_count": null,
   "id": "aada4896-a955-4769-8baa-8ccae6f740f1",
   "metadata": {},
   "outputs": [],
   "source": [
    "data = []\n",
    "\n",
    "for entry in tqdm(entries, desc=\"Processing entries\"):\n",
    "    if \"Watched\" not in entry:\n",
    "        continue  # Skip anything not related to a watched video\n",
    "\n",
    "    # ✅ Correctly extract only the first \"content-cell\" div (the real watch event)\n",
    "    match = re.search(r'<div class=\"content-cell mdl-cell mdl-cell--6-col mdl-typography--body-1\">(.*?)<\\/div>', entry, re.S)\n",
    "    if not match:\n",
    "        continue\n",
    "    \n",
    "    watched_section = match.group(1)\n",
    "\n",
    "\n",
    "    if watched_section.strip().startswith(\"https://\"):\n",
    "        continue  # Skip bad auto-logged links\n",
    "\n",
    "    # Extract all links\n",
    "    links = re.findall(r'<a href=\"(.*?)\">(.*?)<\\/a>', watched_section)\n",
    "    # Extract timestamps\n",
    "    time_match = re.search(r'(\\d{1,2} \\w+ \\d{4}, \\d{2}:\\d{2}:\\d{2} [A-Z]+)', watched_section)\n",
    "\n",
    "    # --- CASE 1: Full record with video and channel\n",
    "    if len(links) >= 2 and time_match:\n",
    "        video_link, video_name = links[0]\n",
    "        channel_link, channel_name = links[1]\n",
    "        watch_time = time_match.group(1)\n",
    "\n",
    "        video_name_unescaped = ihtml.unescape(video_name.strip())\n",
    "        channel_name_unescaped = ihtml.unescape(channel_name.strip())\n",
    "\n",
    "        # ❗ Skip if video name is same as link\n",
    "        if video_name_unescaped.strip() == video_link.strip():\n",
    "            continue\n",
    "        \n",
    "        data.append({\n",
    "            'video_name': video_name_unescaped,\n",
    "            'video_link': video_link.strip(),\n",
    "            'channel_name': channel_name_unescaped,\n",
    "            'channel_link': channel_link.strip(),\n",
    "            'watch_time': watch_time.strip()\n",
    "        })\n",
    "\n",
    "    # --- CASE 2: Minimal record with only video\n",
    "    elif len(links) == 1 and time_match:\n",
    "        # no channel means the video is no longer available\n",
    "        continue\n",
    "\n",
    "    else:\n",
    "        # No usable record found, skip\n",
    "        continue"
   ]
  },
  {
   "cell_type": "code",
   "execution_count": null,
   "id": "851b8890-35b9-4afe-baa2-dc560e1320fb",
   "metadata": {},
   "outputs": [],
   "source": [
    "len(data)"
   ]
  },
  {
   "cell_type": "code",
   "execution_count": null,
   "id": "f8703300-8a9b-4851-83d5-3aba64e724de",
   "metadata": {},
   "outputs": [],
   "source": [
    "# Create DataFrame\n",
    "df = pd.DataFrame(data)\n",
    "\n",
    "# Save to CSV\n",
    "df.to_csv('watch-history.csv', index=False)\n",
    "\n",
    "print(f\"Extracted {len(df)} entries and saved to watch-history.csv\")"
   ]
  },
  {
   "cell_type": "code",
   "execution_count": null,
   "id": "7fabbbef-29ba-48bb-b533-e4ed2e041a71",
   "metadata": {},
   "outputs": [],
   "source": [
    "df"
   ]
  },
  {
   "cell_type": "code",
   "execution_count": null,
   "id": "88f2867b-b3ca-47e7-a81d-e4f27cf983ab",
   "metadata": {},
   "outputs": [],
   "source": []
  }
 ],
 "metadata": {
  "kernelspec": {
   "display_name": "Python 3 (ipykernel)",
   "language": "python",
   "name": "python3"
  },
  "language_info": {
   "codemirror_mode": {
    "name": "ipython",
    "version": 3
   },
   "file_extension": ".py",
   "mimetype": "text/x-python",
   "name": "python",
   "nbconvert_exporter": "python",
   "pygments_lexer": "ipython3",
   "version": "3.12.7"
  }
 },
 "nbformat": 4,
 "nbformat_minor": 5
}
