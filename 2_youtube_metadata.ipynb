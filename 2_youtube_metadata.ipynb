{
 "cells": [
  {
   "cell_type": "code",
   "execution_count": null,
   "id": "3425dc6d-04bd-46bd-8e86-0f46b5f04096",
   "metadata": {},
   "outputs": [],
   "source": [
    "import json\n",
    "import requests\n",
    "from dotenv import load_dotenv\n",
    "import os\n",
    "import pandas as pd\n",
    "import re\n",
    "import isodate\n",
    "from tqdm import tqdm\n",
    "\n",
    "\n",
    "# Load the .env file\n",
    "load_dotenv(dotenv_path=\".env\")  # You can omit dotenv_path if it's in the same folder\n",
    "\n",
    "# Now you can access the variables\n",
    "YOUTUBE_API_KEY = os.getenv(\"YOUTUBE_API_KEY\")\n",
    "\n",
    "METADATA_FILE = 'youtube_metadata_cache.json'"
   ]
  },
  {
   "cell_type": "code",
   "execution_count": null,
   "id": "d3eba220-e1b1-41ad-a219-ea23c36f48ed",
   "metadata": {},
   "outputs": [],
   "source": [
    "def load_metadata_cache():\n",
    "    if os.path.exists(METADATA_FILE):\n",
    "        with open(METADATA_FILE, 'r', encoding='utf-8') as f:\n",
    "            return json.load(f)\n",
    "    return {}\n",
    "\n",
    "def save_metadata_cache(cache):\n",
    "    with open(METADATA_FILE, 'w', encoding='utf-8') as f:\n",
    "        json.dump(cache, f, indent=2, ensure_ascii=False)\n",
    "\n",
    "def fetch_video_metadata(video_id, api_key, cache):\n",
    "    if video_id in cache:\n",
    "        return cache[video_id]\n",
    "\n",
    "    url = f\"https://www.googleapis.com/youtube/v3/videos?part=snippet,contentDetails,statistics&id={video_id}&key={api_key}\"\n",
    "    response = requests.get(url)\n",
    "    data = response.json()\n",
    "\n",
    "    if 'items' in data and data['items']:\n",
    "        metadata = data['items'][0]\n",
    "        cache[video_id] = metadata\n",
    "        return metadata\n",
    "    else:\n",
    "        print(f\"Warning: Video ID {video_id} not found or inaccessible.\")\n",
    "        cache[video_id] = None\n",
    "        return None\n",
    "\n",
    "def extract_video_id(video_link):\n",
    "    match = re.search(r'v=([^&]+)', video_link)\n",
    "    return match.group(1) if match else None\n",
    "\n",
    "def get_duration_seconds_from_metadata(metadata):\n",
    "    if metadata and 'contentDetails' in metadata and 'duration' in metadata['contentDetails']:\n",
    "        duration_iso = metadata['contentDetails']['duration']\n",
    "        try:\n",
    "            duration = isodate.parse_duration(duration_iso)\n",
    "            return int(duration.total_seconds())\n",
    "        except Exception as e:\n",
    "            print(f\"Error parsing duration: {e}\")\n",
    "            return None\n",
    "    return None"
   ]
  },
  {
   "cell_type": "code",
   "execution_count": null,
   "id": "0905b9b8-1c63-4d41-941e-78d3a760301e",
   "metadata": {},
   "outputs": [],
   "source": [
    "# Load your existing watch history\n",
    "df = pd.read_csv('watch-history.csv')"
   ]
  },
  {
   "cell_type": "code",
   "execution_count": null,
   "id": "4effe9c5-e5de-41ad-903a-0528a0fe11b0",
   "metadata": {},
   "outputs": [],
   "source": [
    "# Load metadata cache\n",
    "cache = load_metadata_cache()\n",
    "print(len(cache.keys()))"
   ]
  },
  {
   "cell_type": "code",
   "execution_count": null,
   "id": "001b67dd-6489-49f3-a4ff-1df3231b6b1c",
   "metadata": {},
   "outputs": [],
   "source": [
    "durations = []\n",
    "categories = []\n",
    "links_to_process = df.head(5000)\n",
    "previous_cache_len = len(cache)\n",
    "\n",
    "for idx, link in tqdm(zip(links_to_process.index, links_to_process['video_link']), total=len(links_to_process), desc=\"Fetching metadata\"):\n",
    "    video_id = extract_video_id(link)\n",
    "    if video_id:\n",
    "        metadata = fetch_video_metadata(video_id, YOUTUBE_API_KEY, cache)\n",
    "\n",
    "        # Extract duration\n",
    "        duration_seconds = get_duration_seconds_from_metadata(metadata)\n",
    "\n",
    "        # Extract categoryId\n",
    "        category_id = None\n",
    "        if metadata and 'snippet' in metadata and 'categoryId' in metadata['snippet']:\n",
    "            category_id = metadata['snippet']['categoryId']\n",
    "\n",
    "        durations.append((idx, duration_seconds))\n",
    "        categories.append((idx, category_id))\n",
    "    else:\n",
    "        durations.append((idx, None))\n",
    "        categories.append((idx, None))\n",
    "\n",
    "    # Save cache only if it grows\n",
    "    if len(cache) > previous_cache_len:\n",
    "        save_metadata_cache(cache)\n",
    "        previous_cache_len = len(cache)"
   ]
  },
  {
   "cell_type": "code",
   "execution_count": null,
   "id": "e077871b-0490-4c4d-9c2d-64b9fd742c65",
   "metadata": {},
   "outputs": [],
   "source": [
    "# Create or reset the columns\n",
    "df['duration_seconds'] = None\n",
    "df['category_id'] = None\n",
    "\n",
    "# Apply extracted values back to DataFrame\n",
    "for idx, dur in durations:\n",
    "    df.at[idx, 'duration_seconds'] = dur\n",
    "\n",
    "for idx, cat_id in categories:\n",
    "    df.at[idx, 'category_id'] = cat_id\n",
    "\n",
    "# Save the enriched file\n",
    "df.to_csv('watch-history-enriched.csv', index=False)\n",
    "\n",
    "print(f\"✅ Done! Enriched file saved as watch-history-enriched.csv\")"
   ]
  },
  {
   "cell_type": "code",
   "execution_count": null,
   "id": "b749e2a7-b88c-47d7-b139-04d7d7a772be",
   "metadata": {},
   "outputs": [],
   "source": []
  }
 ],
 "metadata": {
  "kernelspec": {
   "display_name": "Python 3 (ipykernel)",
   "language": "python",
   "name": "python3"
  },
  "language_info": {
   "codemirror_mode": {
    "name": "ipython",
    "version": 3
   },
   "file_extension": ".py",
   "mimetype": "text/x-python",
   "name": "python",
   "nbconvert_exporter": "python",
   "pygments_lexer": "ipython3",
   "version": "3.12.7"
  }
 },
 "nbformat": 4,
 "nbformat_minor": 5
}
