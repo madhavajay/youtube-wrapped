{
 "cells": [
  {
   "cell_type": "code",
   "execution_count": null,
   "id": "2aa500d6-0668-45de-bacc-d8124f8f4f38",
   "metadata": {},
   "outputs": [],
   "source": [
    "import pandas as pd\n",
    "import tzlocal\n",
    "\n",
    "# Load your CSV\n",
    "df = pd.read_csv('watch-history-enriched.csv')"
   ]
  },
  {
   "cell_type": "code",
   "execution_count": null,
   "id": "aeee5d4e-6f68-4515-97b4-1ad1728ad97c",
   "metadata": {},
   "outputs": [],
   "source": [
    "# Step 1: Parse datetime normally\n",
    "df['watch_time_dt'] = pd.to_datetime(df['watch_time'], errors='coerce')\n",
    "\n",
    "# Step 2: Detect system timezone\n",
    "local_timezone = tzlocal.get_localzone()\n",
    "\n",
    "# Step 3: Fix timezone correctly for each row\n",
    "def fix_timezone(dt):\n",
    "    if pd.isna(dt):\n",
    "        return dt\n",
    "    if dt.tzinfo is None:\n",
    "        # Naive datetime, localize it\n",
    "        return dt.tz_localize(local_timezone)\n",
    "    else:\n",
    "        # Already timezone-aware, just convert\n",
    "        return dt.tz_convert(local_timezone)\n",
    "\n",
    "df['watch_time_dt'] = df['watch_time_dt'].apply(fix_timezone)"
   ]
  },
  {
   "cell_type": "code",
   "execution_count": null,
   "id": "7f70d5c8-bae8-43ff-8780-ed026a0cba3c",
   "metadata": {},
   "outputs": [],
   "source": [
    "import pandas as pd\n",
    "import matplotlib.pyplot as plt\n",
    "\n",
    "# Assuming df is your DataFrame and 'duration_seconds' is filled correctly\n",
    "\n",
    "# Step 1: Define duration in hours\n",
    "df['duration_hours'] = df['duration_seconds'] / 3600\n",
    "\n",
    "# Step 2: Bin durations into categories\n",
    "bins = list(range(0, 13)) + [float('inf')]  # 0–1, 1–2, ..., 11–12, 12+\n",
    "labels = [f\"{i}-{i+1}\" for i in range(0, 12)] + ['12+']\n",
    "\n",
    "df['duration_bucket'] = pd.cut(df['duration_hours'], bins=bins, labels=labels, right=False)\n",
    "\n",
    "# Step 3: Count videos in each bucket\n",
    "histogram = df['duration_bucket'].value_counts().sort_index()\n",
    "\n",
    "print(histogram)\n",
    "\n",
    "# Step 4: Optional: plot it\n",
    "histogram.plot(kind='bar')\n",
    "plt.title('Number of Videos by Duration Bucket')\n",
    "plt.xlabel('Duration (hours)')\n",
    "plt.ylabel('Number of Videos')\n",
    "plt.xticks(rotation=45)\n",
    "plt.grid(axis='y')\n",
    "plt.tight_layout()\n",
    "plt.show()"
   ]
  },
  {
   "cell_type": "code",
   "execution_count": null,
   "id": "64eff04b-935c-49f1-93f8-2f2bce1192b0",
   "metadata": {},
   "outputs": [],
   "source": [
    "# remove things over 4 hours (usually infinite loop videos)\n",
    "df = df[df['duration_seconds'] <= 4 * 3600]"
   ]
  },
  {
   "cell_type": "code",
   "execution_count": null,
   "id": "17d4f6b4-5036-4db3-a520-b4e01a0cea90",
   "metadata": {},
   "outputs": [],
   "source": [
    "# Assuming your parsed datetime is in 'watch_time_dt'\n",
    "year = 2024\n",
    "\n",
    "# Filter for rows where the year matches\n",
    "df_year = df[df['watch_time_dt'].dt.year == year]"
   ]
  },
  {
   "cell_type": "code",
   "execution_count": null,
   "id": "f839fabb-c316-486a-a1d4-d4260785a5dc",
   "metadata": {},
   "outputs": [],
   "source": [
    "len(df_year)"
   ]
  },
  {
   "cell_type": "code",
   "execution_count": null,
   "id": "4a2610e0-1262-4059-ab8b-3e825f83e438",
   "metadata": {},
   "outputs": [],
   "source": [
    "json_stats = {}"
   ]
  },
  {
   "cell_type": "code",
   "execution_count": null,
   "id": "df64bbca-a6d5-4f8c-9e18-ab09e0bed722",
   "metadata": {},
   "outputs": [],
   "source": [
    "json_stats[\"year\"] = year"
   ]
  },
  {
   "cell_type": "code",
   "execution_count": null,
   "id": "240cc483-81bd-4436-8a6e-e6df09a9ffec",
   "metadata": {},
   "outputs": [],
   "source": [
    "top_channels = (\n",
    "    df_year['channel_name']\n",
    "    .value_counts()\n",
    "    .head(5)\n",
    "    .to_dict()\n",
    ")"
   ]
  },
  {
   "cell_type": "code",
   "execution_count": null,
   "id": "c68675bb-6865-4b15-9f70-47a91f7866f9",
   "metadata": {},
   "outputs": [],
   "source": [
    "top_channels"
   ]
  },
  {
   "cell_type": "code",
   "execution_count": null,
   "id": "c763e1da-9dc9-4806-91a8-02f55ced7faa",
   "metadata": {},
   "outputs": [],
   "source": [
    "json_stats[\"top_channels\"] = list(top_channels.keys())"
   ]
  },
  {
   "cell_type": "code",
   "execution_count": null,
   "id": "57351c85-4cb2-4065-9275-24a8208c76b6",
   "metadata": {},
   "outputs": [],
   "source": [
    "top_channels = (\n",
    "    df_year\n",
    "    .assign(minutes=df_year['duration_seconds'].fillna(0) / 60)\n",
    "    .groupby('channel_name')['minutes']\n",
    "    .sum()\n",
    "    .sort_values(ascending=False)\n",
    "    .head(5)\n",
    "    .to_dict()\n",
    ")\n",
    "top_channels"
   ]
  },
  {
   "cell_type": "code",
   "execution_count": null,
   "id": "34e58086-c0cc-41ef-8ec3-0c87f69cddc5",
   "metadata": {},
   "outputs": [],
   "source": [
    "# First get top channels' names\n",
    "top_channel_names = (\n",
    "    df_year\n",
    "    .assign(minutes=df_year['duration_seconds'].fillna(0) / 60)\n",
    "    .groupby('channel_name')['minutes']\n",
    "    .sum()\n",
    "    .sort_values(ascending=False)\n",
    "    .head(5)\n",
    "    .index.tolist()\n",
    ")\n",
    "\n",
    "# Now build a list of (channel_name, channel_link)\n",
    "top_channels_with_links = (\n",
    "    df_year\n",
    "    .drop_duplicates(subset=['channel_name'])  # Remove duplicates first\n",
    "    .set_index('channel_name')                 # Set channel_name as index\n",
    "    .loc[top_channel_names]                    # Select only top channels\n",
    "    [['channel_link']]                         # Only keep channel_link\n",
    "    .reset_index()\n",
    "    .values.tolist()\n",
    ")\n"
   ]
  },
  {
   "cell_type": "code",
   "execution_count": null,
   "id": "795d4055-7e1a-4fa3-b985-1ddb5bccd785",
   "metadata": {},
   "outputs": [],
   "source": [
    "top_channels_with_links"
   ]
  },
  {
   "cell_type": "code",
   "execution_count": null,
   "id": "e2995f34-cce0-4543-8c3c-52ce5ecc5cb6",
   "metadata": {},
   "outputs": [],
   "source": [
    "json_stats[\"top_channels_links\"] = [link[1] for link in top_channels_with_links]"
   ]
  },
  {
   "cell_type": "code",
   "execution_count": null,
   "id": "3c886ee5-9076-41d1-a6b1-f737a14092ec",
   "metadata": {},
   "outputs": [],
   "source": [
    "json_stats[\"top_channels_links\"]"
   ]
  },
  {
   "cell_type": "code",
   "execution_count": null,
   "id": "07d2457f-555d-461e-bb94-07fdfb723ae6",
   "metadata": {},
   "outputs": [],
   "source": [
    "import re\n",
    "def extract_video_id(video_link):\n",
    "    match = re.search(r'v=([^&]+)', video_link)\n",
    "    return match.group(1) if match else None"
   ]
  },
  {
   "cell_type": "code",
   "execution_count": null,
   "id": "90a19edc-52fe-406d-abd2-f444e4b32457",
   "metadata": {},
   "outputs": [],
   "source": [
    "# Get top 5 videos by minutes watched\n",
    "top_video_names = (\n",
    "    df_year['video_name']\n",
    "    .value_counts()\n",
    "    .head(5)\n",
    "    .index.tolist()\n",
    ")\n",
    "\n",
    "# Now fetch the video_link and construct thumbnail\n",
    "top_videos_with_links_and_thumbs = []\n",
    "\n",
    "for video_name in top_video_names:\n",
    "    row = (\n",
    "        df_year[df_year['video_name'] == video_name]\n",
    "        .drop_duplicates(subset=['video_name'])  # Just in case\n",
    "        .iloc[0]\n",
    "    )\n",
    "    video_link = row['video_link']\n",
    "    video_id = extract_video_id(video_link)\n",
    "    if video_id:\n",
    "        thumbnail = f\"https://i.ytimg.com/vi/{video_id}/mqdefault.jpg\"\n",
    "    else:\n",
    "        thumbnail = \"/api/placeholder/80/60\"  # fallback if parsing failed\n",
    "\n",
    "    top_videos_with_links_and_thumbs.append(\n",
    "        (video_name, thumbnail, video_link)\n",
    "    )\n"
   ]
  },
  {
   "cell_type": "code",
   "execution_count": null,
   "id": "2021d941-11d5-4f50-9655-4ec44e1cc839",
   "metadata": {},
   "outputs": [],
   "source": [
    "top_videos_with_links_and_thumbs"
   ]
  },
  {
   "cell_type": "code",
   "execution_count": null,
   "id": "39e1eedd-a31f-43e7-bbed-bb45f02cbd2e",
   "metadata": {},
   "outputs": [],
   "source": [
    "json_stats[\"top_videos_links\"] = [link[2] for link in top_videos_with_links_and_thumbs]"
   ]
  },
  {
   "cell_type": "code",
   "execution_count": null,
   "id": "12ff0451-fc91-4d44-8114-f4d4cca7e65e",
   "metadata": {},
   "outputs": [],
   "source": [
    "json_stats[\"top_videos_thumbs\"] = [link[1] for link in top_videos_with_links_and_thumbs]"
   ]
  },
  {
   "cell_type": "code",
   "execution_count": null,
   "id": "2a9febdc-bb7d-4b26-a0e1-754b6a50d921",
   "metadata": {},
   "outputs": [],
   "source": [
    "top_videos = (\n",
    "    df_year['video_name']\n",
    "    .value_counts()\n",
    "    .head(5)\n",
    "    .to_dict()\n",
    ")"
   ]
  },
  {
   "cell_type": "code",
   "execution_count": null,
   "id": "802a4710-b3c8-4e73-958a-323fd9a777a4",
   "metadata": {},
   "outputs": [],
   "source": [
    "json_stats[\"top_videos\"] = list(top_videos.keys())"
   ]
  },
  {
   "cell_type": "code",
   "execution_count": null,
   "id": "f49b0675-4cc1-4090-8864-6bccb9740791",
   "metadata": {},
   "outputs": [],
   "source": [
    "top_videos"
   ]
  },
  {
   "cell_type": "code",
   "execution_count": null,
   "id": "8e3d6d90-fb70-472b-9bb9-70abf28e6be2",
   "metadata": {},
   "outputs": [],
   "source": [
    "total_views = len(df_year)\n",
    "total_views"
   ]
  },
  {
   "cell_type": "code",
   "execution_count": null,
   "id": "edfd8d94-f480-4f2b-b3b6-f5c955a41d28",
   "metadata": {},
   "outputs": [],
   "source": [
    "json_stats[\"total_views\"] = total_views"
   ]
  },
  {
   "cell_type": "code",
   "execution_count": null,
   "id": "72438499-0ccc-45d3-9555-11c551743f44",
   "metadata": {},
   "outputs": [],
   "source": [
    "total_minutes = df_year['duration_seconds'].sum() // 60\n",
    "total_minutes"
   ]
  },
  {
   "cell_type": "code",
   "execution_count": null,
   "id": "6c327413-8156-463e-88e8-8b7d3769eaa5",
   "metadata": {},
   "outputs": [],
   "source": [
    "json_stats[\"total_hours\"] = int(total_minutes // 60)"
   ]
  },
  {
   "cell_type": "code",
   "execution_count": null,
   "id": "1539810e-866a-4737-a4c0-2770f7379544",
   "metadata": {},
   "outputs": [],
   "source": [
    "json_stats[\"total_minutes\"] = int(total_minutes - int(total_minutes // 60))"
   ]
  },
  {
   "cell_type": "code",
   "execution_count": null,
   "id": "e9537139-a89f-43d4-a6a0-607ea5d1da4d",
   "metadata": {},
   "outputs": [],
   "source": [
    "top_day = (\n",
    "    df_year['watch_time_dt']\n",
    "    .dt.day_name()\n",
    "    .value_counts()\n",
    "    .idxmax()\n",
    ")\n",
    "top_day"
   ]
  },
  {
   "cell_type": "code",
   "execution_count": null,
   "id": "0dc286e8-8f84-4f6b-b0a3-e1312993ba3e",
   "metadata": {},
   "outputs": [],
   "source": [
    "json_stats[\"top_day\"] = top_day"
   ]
  },
  {
   "cell_type": "code",
   "execution_count": null,
   "id": "ac6ac198-41b6-4b62-9527-3b8e078b5f57",
   "metadata": {},
   "outputs": [],
   "source": [
    "# Assuming you already filtered your df to a year like df_year\n",
    "days_watched = df_year['watch_time_dt'].dt.date.nunique()\n",
    "days_watched"
   ]
  },
  {
   "cell_type": "code",
   "execution_count": null,
   "id": "274d3d03-475f-4718-bc04-2f0d925667eb",
   "metadata": {},
   "outputs": [],
   "source": [
    "json_stats[\"total_days\"] = days_watched"
   ]
  },
  {
   "cell_type": "code",
   "execution_count": null,
   "id": "1e02652c-c93e-459f-b617-e7cd0ba4bf9f",
   "metadata": {},
   "outputs": [],
   "source": [
    "average_minutes_per_day = total_minutes / days_watched if days_watched > 0 else 0\n",
    "\n",
    "# average_minutes_per_day is already calculated\n",
    "average_hours = int(average_minutes_per_day // 60)\n",
    "average_minutes = int(average_minutes_per_day % 60)\n",
    "\n",
    "print(f\"🎬 Average YouTube watched per day: {average_hours}h {average_minutes}m\")\n"
   ]
  },
  {
   "cell_type": "code",
   "execution_count": null,
   "id": "a27704fd-9908-4bcd-9748-d483de1baeb9",
   "metadata": {},
   "outputs": [],
   "source": [
    "json_stats[\"average_hours\"] = average_hours\n",
    "json_stats[\"average_minutes\"] = average_minutes"
   ]
  },
  {
   "cell_type": "code",
   "execution_count": null,
   "id": "b4766ae6-c99f-4c10-8e0d-23d7039dd88f",
   "metadata": {},
   "outputs": [],
   "source": [
    "# Group by date and sum minutes watched\n",
    "minutes_per_day = (\n",
    "    df_year\n",
    "    .assign(minutes=df_year['duration_seconds'].fillna(0) / 60)\n",
    "    .groupby(df_year['watch_time_dt'].dt.date)['minutes']\n",
    "    .sum()\n",
    ")\n",
    "\n",
    "# Find top day\n",
    "top_day = minutes_per_day.idxmax()\n",
    "top_minutes = minutes_per_day.max()\n",
    "\n",
    "# Convert top_day to pandas Timestamp to easily get day of week\n",
    "top_day_dt = pd.to_datetime(top_day)\n",
    "top_day_name = top_day_dt.day_name()\n",
    "\n",
    "print(f\"🏆 Top YouTube day: {top_day} ({top_day_name}) with {top_minutes:.2f} minutes watched!\")\n"
   ]
  },
  {
   "cell_type": "code",
   "execution_count": null,
   "id": "c95ad314-2063-4b8a-9dfc-f37dd7ac1e72",
   "metadata": {},
   "outputs": [],
   "source": [
    "json_stats[\"top_day_date_year\"] = top_day.year"
   ]
  },
  {
   "cell_type": "code",
   "execution_count": null,
   "id": "7867eee7-81c1-469c-9811-b11ce1761c94",
   "metadata": {},
   "outputs": [],
   "source": [
    "json_stats[\"top_day_date_month\"] = top_day.month"
   ]
  },
  {
   "cell_type": "code",
   "execution_count": null,
   "id": "77aece35-a45d-4981-89fc-af0a45023510",
   "metadata": {},
   "outputs": [],
   "source": [
    "json_stats[\"top_day_date_day\"] = top_day.day"
   ]
  },
  {
   "cell_type": "code",
   "execution_count": null,
   "id": "726c7bd9-55cb-4b90-ad45-17852a6bb850",
   "metadata": {},
   "outputs": [],
   "source": [
    "json_stats[\"top_day_date_day_name\"] = top_day_name"
   ]
  },
  {
   "cell_type": "code",
   "execution_count": null,
   "id": "cc8d7ba0-e756-4155-b7d8-c2ef4c67e67c",
   "metadata": {},
   "outputs": [],
   "source": [
    "json_stats[\"top_day_minutes\"] = int(top_minutes)"
   ]
  },
  {
   "cell_type": "code",
   "execution_count": null,
   "id": "d3a19393-1785-4a8e-b43d-2fc33a9a6a37",
   "metadata": {},
   "outputs": [],
   "source": [
    "json_stats"
   ]
  },
  {
   "cell_type": "code",
   "execution_count": null,
   "id": "c1350971-a59b-478d-b72e-39758ebf2dbf",
   "metadata": {},
   "outputs": [],
   "source": [
    "import json\n",
    "with open(\"youtube-wrapped.json\", \"w\") as f:\n",
    "    f.write(json.dumps(json_stats))"
   ]
  },
  {
   "cell_type": "code",
   "execution_count": null,
   "id": "b8707c41-4c32-4ad6-8846-98599c329a11",
   "metadata": {},
   "outputs": [],
   "source": []
  },
  {
   "cell_type": "code",
   "execution_count": null,
   "id": "47ecae77-5322-49ce-aa60-6f8cf38eb207",
   "metadata": {},
   "outputs": [],
   "source": []
  }
 ],
 "metadata": {
  "kernelspec": {
   "display_name": "Python 3 (ipykernel)",
   "language": "python",
   "name": "python3"
  },
  "language_info": {
   "codemirror_mode": {
    "name": "ipython",
    "version": 3
   },
   "file_extension": ".py",
   "mimetype": "text/x-python",
   "name": "python",
   "nbconvert_exporter": "python",
   "pygments_lexer": "ipython3",
   "version": "3.12.7"
  }
 },
 "nbformat": 4,
 "nbformat_minor": 5
}
