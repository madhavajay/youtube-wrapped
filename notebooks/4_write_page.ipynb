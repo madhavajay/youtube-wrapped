{
 "cells": [
  {
   "cell_type": "code",
   "execution_count": null,
   "id": "07c1f659-10cd-46c6-941c-9e2126c51ba3",
   "metadata": {},
   "outputs": [],
   "source": [
    "from jinja2 import Template\n",
    "import datetime\n",
    "import pandas as pd"
   ]
  },
  {
   "cell_type": "code",
   "execution_count": null,
   "id": "1093a1ea-dd7c-408b-90ea-1960e50ef7f2",
   "metadata": {},
   "outputs": [],
   "source": [
    "import json"
   ]
  },
  {
   "cell_type": "code",
   "execution_count": null,
   "id": "dc97f87a-b8e9-4d36-aed2-8ba9f313948e",
   "metadata": {},
   "outputs": [],
   "source": [
    "# Your dynamic data\n",
    "with open(\"youtube-wrapped.json\") as f:\n",
    "    data = json.loads(f.read())    "
   ]
  },
  {
   "cell_type": "code",
   "execution_count": null,
   "id": "e6bdaab8-5cc5-4210-a5b9-65be7e62350b",
   "metadata": {},
   "outputs": [],
   "source": [
    "from datetime import datetime\n",
    "\n",
    "def format_human_date(dt: datetime) -> str:\n",
    "    # Suffix helper\n",
    "    def ordinal(n):\n",
    "        if 11 <= n % 100 <= 13:\n",
    "            suffix = 'th'\n",
    "        else:\n",
    "            suffix = {1: 'st', 2: 'nd', 3: 'rd'}.get(n % 10, 'th')\n",
    "        return f\"{n}{suffix}\"\n",
    "\n",
    "    return f\"{dt.strftime('%A')} the {ordinal(dt.day)} of {dt.strftime('%B')}\"\n"
   ]
  },
  {
   "cell_type": "code",
   "execution_count": null,
   "id": "922e4ea2-bc91-45d0-94a9-57abcc74e07f",
   "metadata": {},
   "outputs": [],
   "source": [
    "# Prepare processed fields\n",
    "data[\"top_channels_combined\"] = list(zip(data[\"top_channels\"], data[\"top_channels_links\"]))\n",
    "data[\"top_videos_combined\"] = list(zip(data[\"top_videos\"], data[\"top_videos_thumbs\"], data[\"top_videos_links\"]))\n",
    "\n",
    "top_date_dt = pd.to_datetime(f\"{data['top_day_date_day']:02d}-{data['top_day_date_month']:02d}-{data['top_day_date_year']}\", dayfirst=True)\n",
    "\n",
    "data[\"top_day_date\"] = format_human_date(top_date_dt)\n",
    "\n",
    "with open(\"youtube-wrapped-template.html.tmpl\", \"r\", encoding=\"utf-8\") as f:\n",
    "    template_html = f.read()\n",
    "\n",
    "template = Template(template_html)\n",
    "\n",
    "# Render the final HTML\n",
    "rendered_html = template.render(\n",
    "    year=data[\"year\"],\n",
    "    total_hours=data[\"total_hours\"],\n",
    "    total_minutes=data[\"total_minutes\"],\n",
    "    average_hours=data[\"average_hours\"],\n",
    "    average_minutes=data[\"average_minutes\"],\n",
    "    top_day_date=data[\"top_day_date\"],\n",
    "    top_day_minutes=data[\"top_day_minutes\"],\n",
    "    top_channels=data[\"top_channels_combined\"],\n",
    "    top_videos=data[\"top_videos_combined\"],\n",
    "    category_names=data[\"top_categories\"],\n",
    "    total_days=data[\"total_days\"],\n",
    ")\n",
    "\n",
    "# Write to output file\n",
    "with open('youtube-wrapped.html', 'w', encoding='utf-8') as f:\n",
    "    f.write(rendered_html)\n",
    "\n",
    "print(\"Page written to youtube-wrapped.html ✅\")"
   ]
  },
  {
   "cell_type": "code",
   "execution_count": null,
   "id": "6bbea912-a058-47e2-889d-eef9e42c29b9",
   "metadata": {},
   "outputs": [],
   "source": []
  },
  {
   "cell_type": "code",
   "execution_count": null,
   "id": "3348482b-0fbf-4348-84c4-5a98d9ca2b5f",
   "metadata": {},
   "outputs": [],
   "source": []
  },
  {
   "cell_type": "code",
   "execution_count": null,
   "id": "75dcc850-ca22-48a2-bde9-acb5b0b8f9b8",
   "metadata": {},
   "outputs": [],
   "source": []
  },
  {
   "cell_type": "code",
   "execution_count": null,
   "id": "bd10d9b0-650d-4516-ae75-b1b3fd120492",
   "metadata": {},
   "outputs": [],
   "source": []
  },
  {
   "cell_type": "code",
   "execution_count": null,
   "id": "522b257d-f087-4ea1-9ca5-a5a831741796",
   "metadata": {},
   "outputs": [],
   "source": []
  },
  {
   "cell_type": "code",
   "execution_count": null,
   "id": "c2ca47c1-a951-4e9b-bb6e-3b62516aae20",
   "metadata": {},
   "outputs": [],
   "source": []
  },
  {
   "cell_type": "code",
   "execution_count": null,
   "id": "78d5d205-0c67-465e-b236-13db57a5dd73",
   "metadata": {},
   "outputs": [],
   "source": []
  }
 ],
 "metadata": {
  "kernelspec": {
   "display_name": "Python 3 (ipykernel)",
   "language": "python",
   "name": "python3"
  },
  "language_info": {
   "codemirror_mode": {
    "name": "ipython",
    "version": 3
   },
   "file_extension": ".py",
   "mimetype": "text/x-python",
   "name": "python",
   "nbconvert_exporter": "python",
   "pygments_lexer": "ipython3",
   "version": "3.12.7"
  }
 },
 "nbformat": 4,
 "nbformat_minor": 5
}
