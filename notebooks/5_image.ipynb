{
 "cells": [
  {
   "cell_type": "code",
   "execution_count": null,
   "id": "7e11c7d5-ca80-482c-a04a-f6eafb3a9748",
   "metadata": {},
   "outputs": [],
   "source": [
    "import PIL"
   ]
  },
  {
   "cell_type": "code",
   "execution_count": null,
   "id": "e1adbdf6-83e2-42b1-a35c-908667c4df9b",
   "metadata": {},
   "outputs": [],
   "source": [
    "PIL.__version__"
   ]
  },
  {
   "cell_type": "code",
   "execution_count": null,
   "id": "217b2cbf-e333-4fc1-8f38-fba58b5b5045",
   "metadata": {},
   "outputs": [],
   "source": [
    "import requests\n",
    "from PIL import Image\n",
    "from io import BytesIO\n",
    "\n",
    "import json\n",
    "with open(\"../cache/youtube-wrapped-2024.json\") as f:\n",
    "    data = json.loads(f.read())"
   ]
  },
  {
   "cell_type": "code",
   "execution_count": null,
   "id": "a17e531b-dcb6-4cc9-b2ea-4a052cd096ed",
   "metadata": {},
   "outputs": [],
   "source": [
    "data"
   ]
  },
  {
   "cell_type": "code",
   "execution_count": null,
   "id": "4c296b19-8257-4b74-a413-d3e9847e7a56",
   "metadata": {},
   "outputs": [],
   "source": [
    "year = str(data[\"year\"])\n",
    "formatted_minutes = f\"{data['total_minutes']:,}\"\n",
    "total_days = str(data['total_days'])\n",
    "top_video = data['top_videos'][0]"
   ]
  },
  {
   "cell_type": "code",
   "execution_count": null,
   "id": "cbc115ec-46b4-4a7c-bb4c-44056ea46762",
   "metadata": {},
   "outputs": [],
   "source": [
    "top_video"
   ]
  },
  {
   "cell_type": "code",
   "execution_count": null,
   "id": "6c00934d-4db2-45aa-8d4a-f98d87f1fcb2",
   "metadata": {},
   "outputs": [],
   "source": [
    "top_video_thumb = data[\"top_videos_thumbs\"][0]\n",
    "top_video_thumb"
   ]
  },
  {
   "cell_type": "code",
   "execution_count": null,
   "id": "aa289157-4769-4583-aec2-d144b22a22d7",
   "metadata": {},
   "outputs": [],
   "source": [
    "top_channels = data[\"top_channels\"][0:3]\n",
    "top_channels"
   ]
  },
  {
   "cell_type": "code",
   "execution_count": null,
   "id": "1c38ef93-e553-499a-ab1f-92279f58dabc",
   "metadata": {},
   "outputs": [],
   "source": [
    "top_day_date_day_name = data[\"top_day_date_day_name\"]\n",
    "top_day_date_day = data[\"top_day_date_day\"]\n",
    "top_day_date_month = data[\"top_day_date_month\"]\n",
    "top_day_date_year = data[\"top_day_date_year\"]\n",
    "top_day_minutes = data[\"top_day_minutes\"]"
   ]
  },
  {
   "cell_type": "code",
   "execution_count": null,
   "id": "ed00b16b-7f36-49ea-8802-c4a9ebcc279d",
   "metadata": {},
   "outputs": [],
   "source": [
    "response = requests.get(top_video_thumb)\n",
    "thumbnail = Image.open(BytesIO(response.content)).convert(\"RGB\")\n",
    "\n",
    "# Step 2: Resize it to fit the 120x80 placeholder box\n",
    "thumbnail = thumbnail.resize((120, 80))"
   ]
  },
  {
   "cell_type": "code",
   "execution_count": null,
   "id": "71dda785-7701-4a1a-8896-b56884100632",
   "metadata": {},
   "outputs": [],
   "source": [
    "def wrap_text(text, font, max_width, draw):\n",
    "    lines = []\n",
    "    words = text.split()\n",
    "    current_line = \"\"\n",
    "\n",
    "    for word in words:\n",
    "        test_line = f\"{current_line} {word}\".strip()\n",
    "        bbox = draw.textbbox((0, 0), test_line, font=font)\n",
    "        text_width = bbox[2] - bbox[0]\n",
    "        if text_width <= max_width:\n",
    "            current_line = test_line\n",
    "        else:\n",
    "            lines.append(current_line)\n",
    "            current_line = word\n",
    "\n",
    "    if current_line:\n",
    "        lines.append(current_line)\n",
    "\n",
    "    return lines"
   ]
  },
  {
   "cell_type": "code",
   "execution_count": null,
   "id": "9764e866-af1f-4ecc-89f9-e61a0ba39354",
   "metadata": {},
   "outputs": [],
   "source": [
    "from PIL import Image, ImageDraw, ImageFont\n",
    "\n",
    "# Step 1: Create a square image\n",
    "size = 600\n",
    "bg_color = (24, 24, 24)  # dark background\n",
    "img = Image.new(\"RGB\", (size, size), bg_color)\n",
    "draw = ImageDraw.Draw(img)\n",
    "\n",
    "# Step 2: Load fonts\n",
    "# You can use any .ttf font path here\n",
    "font_path = \"/System/Library/Fonts/Supplemental/Arial Bold.ttf\"\n",
    "title_font = ImageFont.truetype(font_path, 48)\n",
    "year_font = ImageFont.truetype(font_path, 36)\n",
    "stat_label_font = ImageFont.truetype(font_path, 16)\n",
    "stat_value_font = ImageFont.truetype(font_path, 32)\n",
    "video_title_font = ImageFont.truetype(font_path, 16)\n",
    "more_text_font = ImageFont.truetype(font_path, 18)\n",
    "syftbox_font = ImageFont.truetype(font_path, 14)"
   ]
  },
  {
   "cell_type": "code",
   "execution_count": null,
   "id": "d1ed3886-eb65-47d6-bbdf-635c5d75d046",
   "metadata": {},
   "outputs": [],
   "source": [
    "# Step 3: Draw red accent bar\n",
    "draw.rectangle([(592, 0), (600, 600)], fill=(255, 0, 0))\n",
    "\n",
    "# Step 4: Add header\n",
    "draw.text((40, 40), \"Youtube Wrapped\", font=title_font, fill=(255, 0, 0))\n",
    "draw.text((40, 100), year, font=year_font, fill=(255, 0, 0))\n",
    "\n",
    "# Step 5: Add stats\n",
    "draw.text((40, 160), \"Minutes Watched\", font=stat_label_font, fill=(170, 170, 170))\n",
    "draw.text((40, 180), formatted_minutes, font=stat_value_font, fill=(255, 255, 255))\n",
    "\n",
    "draw.text((300, 160), \"Days Watched\", font=stat_label_font, fill=(170, 170, 170))\n",
    "draw.text((300, 180), total_days, font=stat_value_font, fill=(255, 255, 255))"
   ]
  },
  {
   "cell_type": "code",
   "execution_count": null,
   "id": "c652a71b-c350-4b20-bb2e-0f7d0acffbd4",
   "metadata": {},
   "outputs": [],
   "source": [
    "# Step 10: Save\n",
    "img.save(\"youtube_wrapped_2024.png\")\n",
    "print(\"Image saved as youtube_wrapped_2024.png\")"
   ]
  },
  {
   "cell_type": "code",
   "execution_count": null,
   "id": "cdfb060c-cfdc-4392-954d-6003ef21dff9",
   "metadata": {},
   "outputs": [],
   "source": [
    "# Construct date string\n",
    "top_day_str = f\"{top_day_date_day_name}, {top_day_date_day} {top_day_date_month}/{top_day_date_year}\"\n",
    "watched_msg = f\"Most watched day: {top_day_str} ({top_day_minutes:,} minutes)\"\n",
    "\n",
    "# Draw it near the logo\n",
    "draw.text((40, 240), watched_msg, font=syftbox_font, fill=(180, 180, 180))"
   ]
  },
  {
   "cell_type": "code",
   "execution_count": null,
   "id": "0beb2117-1bee-4409-ba7d-901f3b01e8e0",
   "metadata": {},
   "outputs": [],
   "source": [
    "# Step 10: Save\n",
    "img.save(\"youtube_wrapped_2024.png\")\n",
    "print(\"Image saved as youtube_wrapped_2024.png\")"
   ]
  },
  {
   "cell_type": "code",
   "execution_count": null,
   "id": "af0e60d1-c301-426e-a202-af3abc00343c",
   "metadata": {},
   "outputs": [],
   "source": [
    "video_y = 290\n",
    "# Max width in pixels you want for each line (adjust to your layout)\n",
    "max_width = 400\n",
    "\n",
    "# Wrap it\n",
    "lines = wrap_text(top_video, video_title_font, max_width, draw)\n",
    "\n",
    "draw.text((40, video_y), \"Top Video\", font=stat_label_font, fill=(255, 0, 0))\n",
    "\n",
    "# Paste thumbnail lower\n",
    "img.paste(thumbnail, (40, video_y+30))\n",
    "\n",
    "# Draw wrapped title lines lower\n",
    "x, y = 170, video_y+40\n",
    "line_height = 25\n",
    "for line in lines[:3]:\n",
    "    draw.text((x, y), line, font=video_title_font, fill=(255, 255, 255))\n",
    "    y += line_height"
   ]
  },
  {
   "cell_type": "code",
   "execution_count": null,
   "id": "818f4a5d-4e1d-476b-a696-a205fe5fb00e",
   "metadata": {},
   "outputs": [],
   "source": [
    "# Step 10: Save\n",
    "img.save(\"youtube_wrapped_2024.png\")\n",
    "print(\"Image saved as youtube_wrapped_2024.png\")"
   ]
  },
  {
   "cell_type": "code",
   "execution_count": null,
   "id": "64472ac3-0c2b-4207-9bdd-2bc382b9bccb",
   "metadata": {},
   "outputs": [],
   "source": [
    "# Starting coordinates\n",
    "x_channel = 40\n",
    "y_channel = 430\n",
    "draw.text((x_channel, y_channel), \"Top Channels\", font=stat_label_font, fill=(255, 0, 0))\n",
    "y_channel += 22\n",
    "\n",
    "for i, channel in enumerate(top_channels[:3]):\n",
    "    draw.text((x_channel, y_channel + i * 18), f\"{i+1}. {channel}\", font=syftbox_font, fill=(255, 255, 255))"
   ]
  },
  {
   "cell_type": "code",
   "execution_count": null,
   "id": "9821c171-19e8-4249-afd1-f3a570919cf7",
   "metadata": {},
   "outputs": [],
   "source": [
    "# Step 10: Save\n",
    "img.save(\"youtube_wrapped_2024.png\")\n",
    "print(\"Image saved as youtube_wrapped_2024.png\")"
   ]
  },
  {
   "cell_type": "code",
   "execution_count": null,
   "id": "40359a9d-55e8-4602-b660-f345dff15f0f",
   "metadata": {},
   "outputs": [],
   "source": [
    "logo = Image.open(\"../assets/images/mwsyftbox_white_on.png\").convert(\"RGBA\")\n",
    "\n",
    "# Optional: Resize the logo if it's too big\n",
    "logo = logo.resize((343 // 2, 131 // 2))  # Adjust size as needed\n",
    "\n",
    "# Paste the logo onto your canvas image\n",
    "# (400, 550) is the top-left corner where it will be placed\n",
    "img.paste(logo, (400, 500), logo)  # Use logo as its own mask to preserve transparency"
   ]
  },
  {
   "cell_type": "code",
   "execution_count": null,
   "id": "df880595-9338-4d11-a03c-e723a76cf584",
   "metadata": {},
   "outputs": [],
   "source": [
    "# Step 10: Save\n",
    "img.save(\"youtube_wrapped_2024.png\")\n",
    "print(\"Image saved as youtube_wrapped_2024.png\")"
   ]
  },
  {
   "cell_type": "code",
   "execution_count": null,
   "id": "5e8ea025-a712-41a9-bad8-eb4340ac7120",
   "metadata": {},
   "outputs": [],
   "source": [
    "# Align logo top-right, level with the text \"Youtube Wrapped\"\n",
    "yt_width, yt_height = 60, 40\n",
    "yt_x = size - yt_width - 60  # 40px padding from right\n",
    "yt_y = 48  # same as title top padding\n",
    "\n",
    "# Red pill background\n",
    "draw.rounded_rectangle(\n",
    "    [(yt_x, yt_y), (yt_x + yt_width, yt_y + yt_height)],\n",
    "    radius=10,\n",
    "    fill=(255, 0, 0)\n",
    ")\n",
    "\n",
    "# White triangle play icon, centered\n",
    "triangle = [\n",
    "    (yt_x + 18, yt_y + 10),\n",
    "    (yt_x + 18, yt_y + yt_height - 10),\n",
    "    (yt_x + yt_width - 15, yt_y + yt_height // 2),\n",
    "]\n",
    "draw.polygon(triangle, fill=\"white\")\n",
    "\n",
    "# Step 7: and more...\n",
    "draw.text((40, 540), \"and more...\", font=more_text_font, fill=(170, 170, 170))"
   ]
  },
  {
   "cell_type": "code",
   "execution_count": null,
   "id": "379c7f86-ad8f-4c57-bcc4-957667510090",
   "metadata": {},
   "outputs": [],
   "source": [
    "# Step 10: Save\n",
    "img.save(\"youtube_wrapped_2024.png\")\n",
    "print(\"Image saved as youtube_wrapped_2024.png\")"
   ]
  },
  {
   "cell_type": "code",
   "execution_count": null,
   "id": "93652e71-b21e-4170-b277-3cae75fdaa38",
   "metadata": {},
   "outputs": [],
   "source": []
  },
  {
   "cell_type": "code",
   "execution_count": null,
   "id": "7371670e-8a41-40c9-bde2-c54a79ed0cba",
   "metadata": {},
   "outputs": [],
   "source": []
  }
 ],
 "metadata": {
  "kernelspec": {
   "display_name": "Python 3 (ipykernel)",
   "language": "python",
   "name": "python3"
  },
  "language_info": {
   "codemirror_mode": {
    "name": "ipython",
    "version": 3
   },
   "file_extension": ".py",
   "mimetype": "text/x-python",
   "name": "python",
   "nbconvert_exporter": "python",
   "pygments_lexer": "ipython3",
   "version": "3.12.7"
  }
 },
 "nbformat": 4,
 "nbformat_minor": 5
}
